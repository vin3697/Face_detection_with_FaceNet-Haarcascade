{
  "nbformat": 4,
  "nbformat_minor": 0,
  "metadata": {
    "colab": {
      "name": "facedetection_with_FaceNet.ipynb",
      "provenance": [],
      "authorship_tag": "ABX9TyO+G/8HU47sl3JQJMR3YAtr",
      "include_colab_link": true
    },
    "kernelspec": {
      "name": "python3",
      "display_name": "Python 3"
    },
    "language_info": {
      "name": "python"
    }
  },
  "cells": [
    {
      "cell_type": "markdown",
      "metadata": {
        "id": "view-in-github",
        "colab_type": "text"
      },
      "source": [
        "<a href=\"https://colab.research.google.com/github/vin3697/Face_detection_with_FaceNet-Haarcascade/blob/main/facedetection_with_FaceNet.ipynb\" target=\"_parent\"><img src=\"https://colab.research.google.com/assets/colab-badge.svg\" alt=\"Open In Colab\"/></a>"
      ]
    },
    {
      "cell_type": "code",
      "metadata": {
        "id": "OjtjsRTthi8W"
      },
      "source": [
        "import os\n",
        "from os import listdir\n",
        "from PIL import Image as Img\n",
        "from numpy import asarray\n",
        "from numpy import expand_dims\n",
        "from keras.models import load_model\n",
        "import numpy as np\n",
        "import tensorflow as tf\n",
        "\n",
        "import pickle\n",
        "import cv2"
      ],
      "execution_count": null,
      "outputs": []
    },
    {
      "cell_type": "code",
      "metadata": {
        "id": "PpWcivaGmDug"
      },
      "source": [
        "HaarCascade = cv2.CascadeClassifier(cv2.samples.findFile(cv2.data.haarcascades + 'haarcascade_frontalface_default.xml'))"
      ],
      "execution_count": null,
      "outputs": []
    },
    {
      "cell_type": "code",
      "metadata": {
        "colab": {
          "base_uri": "https://localhost:8080/"
        },
        "id": "eIPBrOoimIUm",
        "outputId": "19c77951-09ed-4307-a7c3-7cba5a72ea63"
      },
      "source": [
        "MyFaceNet = load_model(\"/content/face_detection/workspace/model_files/facenet_keras.h5\") "
      ],
      "execution_count": null,
      "outputs": [
        {
          "output_type": "stream",
          "name": "stdout",
          "text": [
            "WARNING:tensorflow:No training configuration found in the save file, so the model was *not* compiled. Compile it manually.\n"
          ]
        }
      ]
    },
    {
      "cell_type": "code",
      "metadata": {
        "id": "aFmw2R0jmQSI"
      },
      "source": [
        "my_folder='/content/face_detection/workspace/picture_sample/'\n",
        "database = {}\n",
        "\n",
        "for filename in listdir(my_folder):\n",
        "\n",
        "    path = my_folder + filename\n",
        "    gbr_image_old = cv2.imread(my_folder + filename)\n",
        "    \n",
        "    image = HaarCascade.detectMultiScale(gbr_image_old,1.1,4) # 1.1 is scaleFactor – Parameter specifying how much the image size is reduced at each image scale.\n",
        "    #4 is minNeighbors – Parameter specifying how many neighbors each candidate rectangle should have to retain it.\n",
        "    \n",
        "    if len(image)>0:\n",
        "        x1, y1, width, height = image[0]         \n",
        "    else:\n",
        "        x1, y1, width, height = 1, 1, 10, 10\n",
        "        \n",
        "    x1, y1 = abs(x1), abs(y1)\n",
        "    x2, y2 = x1 + width, y1 + height\n",
        "    \n",
        "    gbr = cv2.cvtColor(gbr_image_old, cv2.COLOR_BGR2RGB)\n",
        "    gbr = Img.fromarray(gbr)                  \n",
        "    gbr_array = asarray(gbr)\n",
        "    \n",
        "    face = gbr_array[y1:y2, x1:x2]                        \n",
        "    \n",
        "    face = Img.fromarray(face)                       \n",
        "    face = face.resize((160,160))\n",
        "    face = asarray(face)\n",
        "    \n",
        "    face = face.astype('float32')\n",
        "    mean, std = face.mean(), face.std()\n",
        "    face = (face - mean) / std\n",
        "    \n",
        "    face = expand_dims(face, axis=0)\n",
        "    signature = MyFaceNet.predict(face)\n",
        "    \n",
        "    database[os.path.splitext(filename)[0]]=signature\n",
        "\n",
        "    with open('/content/face_detection/workspace/database', 'w') as writefile:\n",
        "      writefile.write(str(signature))"
      ],
      "execution_count": null,
      "outputs": []
    },
    {
      "cell_type": "code",
      "metadata": {
        "id": "ieNIjG40n4Tg"
      },
      "source": [
        "myfile = open(\"/content/face_detection/workspace/data.pkl\", \"wb\")\n",
        "pickle.dump(database, myfile)\n",
        "myfile.close()"
      ],
      "execution_count": null,
      "outputs": []
    },
    {
      "cell_type": "code",
      "metadata": {
        "id": "n9b19vP2qK9v"
      },
      "source": [
        "myfile = open(\"/content/face_detection/workspace/data.pkl\", \"rb\")\n",
        "database = pickle.load(myfile)\n",
        "myfile.close()"
      ],
      "execution_count": null,
      "outputs": []
    },
    {
      "cell_type": "code",
      "metadata": {
        "colab": {
          "base_uri": "https://localhost:8080/",
          "height": 238
        },
        "id": "RTjnPqA7qcwG",
        "outputId": "b663a210-a107-4ee7-b73c-dcf0aafdee5d"
      },
      "source": [
        "cap = cv2.VideoCapture(0)\n",
        "\n",
        "while(1):\n",
        "    dump, gbr_img = cap.read()\n",
        "    \n",
        "    image = HaarCascade.detectMultiScale(gbr_img,1.1,4)\n",
        "    \n",
        "    if len(image)>0:\n",
        "        x1, y1, width, height = image[0]        \n",
        "    else:\n",
        "        x1, y1, width, height = 1, 1, 10, 10\n",
        "    \n",
        "    x1, y1 = abs(x1), abs(y1)\n",
        "    x2, y2 = x1 + width, y1 + height\n",
        "    \n",
        "    \n",
        "    gbr = cv2.cvtColor(gbr_img, cv2.COLOR_BGR2RGB)\n",
        "    gbr = Image.fromarray(gbr)                  \n",
        "    gbr_array = asarray(gbr)\n",
        "    \n",
        "    face = gbr_array[y1:y2, x1:x2]                        \n",
        "    \n",
        "    face = Image.fromarray(face)                       \n",
        "    face = face.resize((160,160))\n",
        "    face = asarray(face)\n",
        "    \n",
        "    face = face.astype('float32')\n",
        "    mean, std = face.mean(), face.std()\n",
        "    face = (face - mean) / std\n",
        "    \n",
        "    face = expand_dims(face, axis=0)\n",
        "    signature = MyFaceNet.predict(face)\n",
        "    \n",
        "    min_dist=100\n",
        "    identity=' '\n",
        "    for key, value in database.items() :\n",
        "        dist = np.linalg.norm(value-signature)\n",
        "        if dist < min_dist:\n",
        "            min_dist = dist\n",
        "            identity = key\n",
        "            \n",
        "    cv2.putText(gbr_img,identity, (100,100),cv2.FONT_HERSHEY_SIMPLEX, 1, (255, 255, 0), 2, cv2.LINE_AA)\n",
        "    cv2.rectangle(gbr_img,(x1,y1),(x2,y2), (0,255,0), 2)\n",
        "        \n",
        "    cv2.imshow('Face_detected_of_mine',gbr_img)\n",
        "    \n",
        "    k = cv2.waitKey(5) & 0xFF\n",
        "    if k == 27:\n",
        "        break\n",
        "        \n",
        "cv2.destroyAllWindows()\n",
        "cap.release()"
      ],
      "execution_count": null,
      "outputs": [
        {
          "output_type": "error",
          "ename": "error",
          "evalue": "ignored",
          "traceback": [
            "\u001b[0;31m---------------------------------------------------------------------------\u001b[0m",
            "\u001b[0;31merror\u001b[0m                                     Traceback (most recent call last)",
            "\u001b[0;32m<ipython-input-16-7f8103edec01>\u001b[0m in \u001b[0;36m<module>\u001b[0;34m()\u001b[0m\n\u001b[1;32m     15\u001b[0m \u001b[0;34m\u001b[0m\u001b[0m\n\u001b[1;32m     16\u001b[0m \u001b[0;34m\u001b[0m\u001b[0m\n\u001b[0;32m---> 17\u001b[0;31m     \u001b[0mgbr\u001b[0m \u001b[0;34m=\u001b[0m \u001b[0mcv2\u001b[0m\u001b[0;34m.\u001b[0m\u001b[0mcvtColor\u001b[0m\u001b[0;34m(\u001b[0m\u001b[0mgbr_img\u001b[0m\u001b[0;34m,\u001b[0m \u001b[0mcv2\u001b[0m\u001b[0;34m.\u001b[0m\u001b[0mCOLOR_BGR2RGB\u001b[0m\u001b[0;34m)\u001b[0m\u001b[0;34m\u001b[0m\u001b[0;34m\u001b[0m\u001b[0m\n\u001b[0m\u001b[1;32m     18\u001b[0m     \u001b[0mgbr\u001b[0m \u001b[0;34m=\u001b[0m \u001b[0mImage\u001b[0m\u001b[0;34m.\u001b[0m\u001b[0mfromarray\u001b[0m\u001b[0;34m(\u001b[0m\u001b[0mgbr\u001b[0m\u001b[0;34m)\u001b[0m\u001b[0;34m\u001b[0m\u001b[0;34m\u001b[0m\u001b[0m\n\u001b[1;32m     19\u001b[0m     \u001b[0mgbr_array\u001b[0m \u001b[0;34m=\u001b[0m \u001b[0masarray\u001b[0m\u001b[0;34m(\u001b[0m\u001b[0mgbr\u001b[0m\u001b[0;34m)\u001b[0m\u001b[0;34m\u001b[0m\u001b[0;34m\u001b[0m\u001b[0m\n",
            "\u001b[0;31merror\u001b[0m: OpenCV(4.1.2) /io/opencv/modules/imgproc/src/color.cpp:182: error: (-215:Assertion failed) !_src.empty() in function 'cvtColor'\n"
          ]
        }
      ]
    },
    {
      "cell_type": "code",
      "metadata": {
        "id": "wMQAG5_Hqdnl"
      },
      "source": [
        ""
      ],
      "execution_count": null,
      "outputs": []
    },
    {
      "cell_type": "code",
      "metadata": {
        "id": "hS6cpohJqd_N"
      },
      "source": [
        ""
      ],
      "execution_count": null,
      "outputs": []
    }
  ]
}